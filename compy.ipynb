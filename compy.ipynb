{
 "cells": [
  {
   "cell_type": "code",
   "execution_count": 11,
   "metadata": {},
   "outputs": [],
   "source": [
    "from PIL import Image\n",
    "import numpy as np\n",
    "\n",
    "# Load the image\n",
    "img = Image.open(\"part2-image1.jpg\")\n",
    "\n",
    "# Convert the image to a numpy array\n",
    "img_array = np.array(img)\n",
    "\n",
    "# Flatten each row of the image\n",
    "images = img_array.reshape(img_array.shape[0], -1, 3)\n",
    "\n",
    "# Now, flattened_img_array is a 3D array where each row is a flattened version of the corresponding row in the original image"
   ]
  },
  {
   "cell_type": "code",
   "execution_count": 17,
   "metadata": {},
   "outputs": [],
   "source": [
    "# Assume images is a 3D array with shape (n_images, n_pixels, 3)\n",
    "# Each row is a flattened image and the last dimension are the RGB channels\n",
    "import networkx as nx\n",
    "compressed_images = []\n",
    "n_components = 2\n",
    "\n",
    "for channel in range(3):\n",
    "    # Extract the current color channel\n",
    "    images_channel = images[:, :, channel]\n",
    "\n",
    "    # Compute the Euclidean distance matrix\n",
    "    dist_matrix = np.sqrt(\n",
    "        np.sum((images_channel[:, None] - images_channel) ** 2, axis=-1)\n",
    "    )\n",
    "\n",
    "    # Construct a k-nearest neighbors graph\n",
    "    neighbors = np.argsort(dist_matrix, axis=1)[:, 1 : k + 1]\n",
    "    graph = nx.from_numpy_array(dist_matrix)\n",
    "    graph.remove_edges_from(graph.edges)\n",
    "    for i in range(images_channel.shape[0]):\n",
    "        for j in neighbors[i]:\n",
    "            graph.add_edge(i, j, weight=dist_matrix[i, j])\n",
    "\n",
    "    # Compute the shortest path distance matrix\n",
    "    shortest_path_dist_matrix = np.array(nx.floyd_warshall_numpy(graph))\n",
    "\n",
    "    # Apply classical MDS\n",
    "    H = (\n",
    "        np.eye(images_channel.shape[0])\n",
    "        - np.ones((images_channel.shape[0], images_channel.shape[0]))\n",
    "        / images_channel.shape[0]\n",
    "    )\n",
    "    B = -H @ (shortest_path_dist_matrix**2) @ H / 2\n",
    "    eigvals, eigvecs = np.linalg.eigh(B)\n",
    "\n",
    "    # The lower-dimensional embedding is given by the top k eigenvectors scaled by the square root of the corresponding eigenvalues\n",
    "    idx = np.argsort(eigvals)[::-1][:n_components]\n",
    "    compressed_images_channel = eigvecs[:, idx] @ np.diag(np.sqrt(eigvals[idx]))\n",
    "\n",
    "    compressed_images.append(compressed_images_channel)\n",
    "\n",
    "# Stack the compressed images for each channel along the last dimension\n",
    "compressed_images = np.stack(compressed_images, axis=-1)"
   ]
  },
  {
   "cell_type": "code",
   "execution_count": 18,
   "metadata": {},
   "outputs": [
    {
     "data": {
      "text/plain": [
       "True"
      ]
     },
     "execution_count": 18,
     "metadata": {},
     "output_type": "execute_result"
    }
   ],
   "source": [
    "import cv2\n",
    "cv2.imwrite(\"isomap.jpg\", compressed_images)"
   ]
  },
  {
   "cell_type": "code",
   "execution_count": 19,
   "metadata": {},
   "outputs": [
    {
     "ename": "ValueError",
     "evalue": "cannot reshape array of size 2700 into shape (1280,900,3)",
     "output_type": "error",
     "traceback": [
      "\u001b[0;31m---------------------------------------------------------------------------\u001b[0m",
      "\u001b[0;31mValueError\u001b[0m                                Traceback (most recent call last)",
      "Cell \u001b[0;32mIn[19], line 31\u001b[0m\n\u001b[1;32m     26\u001b[0m \u001b[38;5;66;03m# Reshape the first decompressed image to the original image shape\u001b[39;00m\n\u001b[1;32m     27\u001b[0m image_height, image_width \u001b[38;5;241m=\u001b[39m (\n\u001b[1;32m     28\u001b[0m     \u001b[38;5;241m1280\u001b[39m,\n\u001b[1;32m     29\u001b[0m     \u001b[38;5;241m900\u001b[39m,\n\u001b[1;32m     30\u001b[0m )  \u001b[38;5;66;03m# replace with the height and width of your original image\u001b[39;00m\n\u001b[0;32m---> 31\u001b[0m decompressed_image \u001b[38;5;241m=\u001b[39m \u001b[43mdecompressed_images\u001b[49m\u001b[43m[\u001b[49m\u001b[38;5;241;43m0\u001b[39;49m\u001b[43m]\u001b[49m\u001b[38;5;241;43m.\u001b[39;49m\u001b[43mreshape\u001b[49m\u001b[43m(\u001b[49m\u001b[43mimage_height\u001b[49m\u001b[43m,\u001b[49m\u001b[43m \u001b[49m\u001b[43mimage_width\u001b[49m\u001b[43m,\u001b[49m\u001b[43m \u001b[49m\u001b[38;5;241;43m3\u001b[39;49m\u001b[43m)\u001b[49m\n\u001b[1;32m     33\u001b[0m \u001b[38;5;66;03m# Save the decompressed image\u001b[39;00m\n\u001b[1;32m     34\u001b[0m decompressed_image \u001b[38;5;241m=\u001b[39m Image\u001b[38;5;241m.\u001b[39mfromarray((decompressed_image \u001b[38;5;241m*\u001b[39m \u001b[38;5;241m255\u001b[39m)\u001b[38;5;241m.\u001b[39mastype(np\u001b[38;5;241m.\u001b[39muint8))\n",
      "\u001b[0;31mValueError\u001b[0m: cannot reshape array of size 2700 into shape (1280,900,3)"
     ]
    }
   ],
   "source": [
    "def knn_predict(X_train, y_train, X_test, k):\n",
    "    # Compute the Euclidean distance between each test point and all training points\n",
    "    dists = np.sqrt(np.sum((X_test[:, None] - X_train) ** 2, axis=-1))\n",
    "\n",
    "    # Find the k nearest neighbors\n",
    "    neighbors = np.argsort(dists, axis=1)[:, :k]\n",
    "\n",
    "    # Compute the mean of the neighbors\n",
    "    return np.mean(y_train[neighbors], axis=1)\n",
    "\n",
    "\n",
    "# Use the KNN regressor to decompress the images for each color channel\n",
    "decompressed_images = []\n",
    "for channel in range(3):\n",
    "    decompressed_images_channel = knn_predict(\n",
    "        compressed_images[:, :, channel],\n",
    "        images[:, :, channel],\n",
    "        compressed_images[:, :, channel],\n",
    "        k=5,\n",
    "    )\n",
    "    decompressed_images.append(decompressed_images_channel)\n",
    "\n",
    "# Stack the decompressed images for each channel along the last dimension\n",
    "decompressed_images = np.stack(decompressed_images, axis=-1)\n",
    "\n",
    "# Reshape the first decompressed image to the original image shape\n",
    "image_height, image_width = (\n",
    "    1280,\n",
    "    900,\n",
    ")  # replace with the height and width of your original image\n",
    "decompressed_image = decompressed_images[0].reshape(image_height, image_width, 3)\n",
    "\n",
    "# Save the decompressed image\n",
    "decompressed_image = Image.fromarray((decompressed_image * 255).astype(np.uint8))\n",
    "decompressed_image.save(\"decompressed_image.jpg\")"
   ]
  },
  {
   "cell_type": "code",
   "execution_count": null,
   "metadata": {},
   "outputs": [],
   "source": []
  }
 ],
 "metadata": {
  "kernelspec": {
   "display_name": "Python 3",
   "language": "python",
   "name": "python3"
  },
  "language_info": {
   "codemirror_mode": {
    "name": "ipython",
    "version": 3
   },
   "file_extension": ".py",
   "mimetype": "text/x-python",
   "name": "python",
   "nbconvert_exporter": "python",
   "pygments_lexer": "ipython3",
   "version": "3.11.4"
  }
 },
 "nbformat": 4,
 "nbformat_minor": 2
}
