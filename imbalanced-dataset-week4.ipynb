{
 "cells": [
  {
   "cell_type": "code",
   "execution_count": 3,
   "metadata": {},
   "outputs": [],
   "source": [
    "import imblearn as imb\n",
    "import numpy as np\n",
    "import pandas as pd"
   ]
  },
  {
   "cell_type": "code",
   "execution_count": 4,
   "metadata": {},
   "outputs": [
    {
     "data": {
      "text/html": [
       "<div>\n",
       "<style scoped>\n",
       "    .dataframe tbody tr th:only-of-type {\n",
       "        vertical-align: middle;\n",
       "    }\n",
       "\n",
       "    .dataframe tbody tr th {\n",
       "        vertical-align: top;\n",
       "    }\n",
       "\n",
       "    .dataframe thead th {\n",
       "        text-align: right;\n",
       "    }\n",
       "</style>\n",
       "<table border=\"1\" class=\"dataframe\">\n",
       "  <thead>\n",
       "    <tr style=\"text-align: right;\">\n",
       "      <th></th>\n",
       "      <th>feature_1</th>\n",
       "      <th>feature_2</th>\n",
       "      <th>feature_3</th>\n",
       "      <th>feature_4</th>\n",
       "      <th>feature_5</th>\n",
       "      <th>target</th>\n",
       "    </tr>\n",
       "  </thead>\n",
       "  <tbody>\n",
       "    <tr>\n",
       "      <th>0</th>\n",
       "      <td>0.806851</td>\n",
       "      <td>0.264305</td>\n",
       "      <td>-0.784994</td>\n",
       "      <td>-1.333940</td>\n",
       "      <td>-0.348174</td>\n",
       "      <td>0</td>\n",
       "    </tr>\n",
       "    <tr>\n",
       "      <th>1</th>\n",
       "      <td>0.899865</td>\n",
       "      <td>-1.150787</td>\n",
       "      <td>0.064603</td>\n",
       "      <td>1.627266</td>\n",
       "      <td>-2.275097</td>\n",
       "      <td>0</td>\n",
       "    </tr>\n",
       "    <tr>\n",
       "      <th>2</th>\n",
       "      <td>-0.863205</td>\n",
       "      <td>-1.098121</td>\n",
       "      <td>-0.759703</td>\n",
       "      <td>0.714309</td>\n",
       "      <td>0.688674</td>\n",
       "      <td>0</td>\n",
       "    </tr>\n",
       "    <tr>\n",
       "      <th>3</th>\n",
       "      <td>-0.969464</td>\n",
       "      <td>-0.278292</td>\n",
       "      <td>-1.011033</td>\n",
       "      <td>0.730749</td>\n",
       "      <td>-2.024265</td>\n",
       "      <td>0</td>\n",
       "    </tr>\n",
       "    <tr>\n",
       "      <th>4</th>\n",
       "      <td>0.830337</td>\n",
       "      <td>-0.028375</td>\n",
       "      <td>-0.557634</td>\n",
       "      <td>0.355968</td>\n",
       "      <td>-0.422009</td>\n",
       "      <td>0</td>\n",
       "    </tr>\n",
       "    <tr>\n",
       "      <th>...</th>\n",
       "      <td>...</td>\n",
       "      <td>...</td>\n",
       "      <td>...</td>\n",
       "      <td>...</td>\n",
       "      <td>...</td>\n",
       "      <td>...</td>\n",
       "    </tr>\n",
       "    <tr>\n",
       "      <th>14995</th>\n",
       "      <td>-0.398952</td>\n",
       "      <td>-0.833110</td>\n",
       "      <td>1.035855</td>\n",
       "      <td>1.840583</td>\n",
       "      <td>1.248318</td>\n",
       "      <td>1</td>\n",
       "    </tr>\n",
       "    <tr>\n",
       "      <th>14996</th>\n",
       "      <td>-0.874915</td>\n",
       "      <td>0.668801</td>\n",
       "      <td>-0.896691</td>\n",
       "      <td>-0.804652</td>\n",
       "      <td>-2.314407</td>\n",
       "      <td>0</td>\n",
       "    </tr>\n",
       "    <tr>\n",
       "      <th>14997</th>\n",
       "      <td>-1.939143</td>\n",
       "      <td>0.999973</td>\n",
       "      <td>-2.000581</td>\n",
       "      <td>0.495230</td>\n",
       "      <td>0.344745</td>\n",
       "      <td>0</td>\n",
       "    </tr>\n",
       "    <tr>\n",
       "      <th>14998</th>\n",
       "      <td>-0.039921</td>\n",
       "      <td>0.088237</td>\n",
       "      <td>-0.116877</td>\n",
       "      <td>-1.079818</td>\n",
       "      <td>1.369312</td>\n",
       "      <td>0</td>\n",
       "    </tr>\n",
       "    <tr>\n",
       "      <th>14999</th>\n",
       "      <td>2.036307</td>\n",
       "      <td>-0.318516</td>\n",
       "      <td>-2.348431</td>\n",
       "      <td>-1.720654</td>\n",
       "      <td>-0.195912</td>\n",
       "      <td>0</td>\n",
       "    </tr>\n",
       "  </tbody>\n",
       "</table>\n",
       "<p>15000 rows × 6 columns</p>\n",
       "</div>"
      ],
      "text/plain": [
       "       feature_1  feature_2  feature_3  feature_4  feature_5  target\n",
       "0       0.806851   0.264305  -0.784994  -1.333940  -0.348174       0\n",
       "1       0.899865  -1.150787   0.064603   1.627266  -2.275097       0\n",
       "2      -0.863205  -1.098121  -0.759703   0.714309   0.688674       0\n",
       "3      -0.969464  -0.278292  -1.011033   0.730749  -2.024265       0\n",
       "4       0.830337  -0.028375  -0.557634   0.355968  -0.422009       0\n",
       "...          ...        ...        ...        ...        ...     ...\n",
       "14995  -0.398952  -0.833110   1.035855   1.840583   1.248318       1\n",
       "14996  -0.874915   0.668801  -0.896691  -0.804652  -2.314407       0\n",
       "14997  -1.939143   0.999973  -2.000581   0.495230   0.344745       0\n",
       "14998  -0.039921   0.088237  -0.116877  -1.079818   1.369312       0\n",
       "14999   2.036307  -0.318516  -2.348431  -1.720654  -0.195912       0\n",
       "\n",
       "[15000 rows x 6 columns]"
      ]
     },
     "execution_count": 4,
     "metadata": {},
     "output_type": "execute_result"
    }
   ],
   "source": [
    "from sklearn.datasets import make_classification\n",
    "\n",
    "random_seed = 42\n",
    "\n",
    "X, y = make_classification(\n",
    "    n_samples=15000,\n",
    "    n_features=5,\n",
    "    n_redundant=0,\n",
    "    n_clusters_per_class=2,\n",
    "    weights=[0.75],\n",
    "    flip_y=0,\n",
    "    random_state=random_seed,\n",
    ")\n",
    "\n",
    "columns = [f\"feature_{i}\" for i in range(1, X.shape[1] + 1)]\n",
    "df = pd.DataFrame(data=X, columns=columns)\n",
    "df[\"target\"] = y\n",
    "\n",
    "df"
   ]
  },
  {
   "cell_type": "code",
   "execution_count": 5,
   "metadata": {},
   "outputs": [
    {
     "name": "stdout",
     "output_type": "stream",
     "text": [
      "Imbalanced Dataset Information:\n",
      "Number of samples: 15000\n",
      "Number of features: 5\n",
      "Number of class 0 samples: 11250\n",
      "Number of class 1 samples: 3750\n",
      "Class distribution: target\n",
      "0    11250\n",
      "1     3750\n",
      "Name: count, dtype: int64\n"
     ]
    }
   ],
   "source": [
    "print(\"Imbalanced Dataset Information:\")\n",
    "print(\"Number of samples:\", df.shape[0])\n",
    "print(\"Number of features:\", df.shape[1] - 1) \n",
    "print(\"Number of class 0 samples:\", df[df[\"target\"] == 0].shape[0])\n",
    "print(\"Number of class 1 samples:\", df[df[\"target\"] == 1].shape[0])\n",
    "print(\"Class distribution:\", df[\"target\"].value_counts())\n"
   ]
  },
  {
   "cell_type": "code",
   "execution_count": 6,
   "metadata": {},
   "outputs": [],
   "source": [
    "from sklearn.linear_model import LogisticRegression\n",
    "from sklearn.model_selection import KFold, cross_val_score\n",
    "\n",
    "model = LogisticRegression()\n",
    "\n",
    "kf = KFold(n_splits=5, shuffle=True, random_state=42)\n",
    "\n",
    "def kfoldmetrics(scoring):\n",
    "    accuracy_scores = cross_val_score(model, X=X, y=y, cv=kf, scoring=scoring)\n",
    "\n",
    "    for i, scores in enumerate(accuracy_scores, 1):\n",
    "        print(f\"Fold {i} : Accuracy - {scores:.4f}\")\n",
    "\n",
    "    print(f\"Average accuracy - {accuracy_scores.mean():.4f}\")\n",
    "    \n",
    "\n"
   ]
  },
  {
   "cell_type": "code",
   "execution_count": 7,
   "metadata": {},
   "outputs": [
    {
     "name": "stdout",
     "output_type": "stream",
     "text": [
      "Fold 1 : Accuracy - 0.9287\n",
      "Fold 2 : Accuracy - 0.9143\n",
      "Fold 3 : Accuracy - 0.9220\n",
      "Fold 4 : Accuracy - 0.9253\n",
      "Fold 5 : Accuracy - 0.9240\n",
      "Average accuracy - 0.9229\n"
     ]
    }
   ],
   "source": [
    "kfoldmetrics(\"accuracy\")"
   ]
  },
  {
   "cell_type": "code",
   "execution_count": 8,
   "metadata": {},
   "outputs": [
    {
     "name": "stdout",
     "output_type": "stream",
     "text": [
      "Fold 1 : Accuracy - 0.8978\n",
      "Fold 2 : Accuracy - 0.8676\n",
      "Fold 3 : Accuracy - 0.8809\n",
      "Fold 4 : Accuracy - 0.8569\n",
      "Fold 5 : Accuracy - 0.8750\n",
      "Average accuracy - 0.8757\n"
     ]
    }
   ],
   "source": [
    "kfoldmetrics(\"precision\")"
   ]
  },
  {
   "cell_type": "code",
   "execution_count": 9,
   "metadata": {},
   "outputs": [
    {
     "name": "stdout",
     "output_type": "stream",
     "text": [
      "Fold 1 : Accuracy - 0.8197\n",
      "Fold 2 : Accuracy - 0.7794\n",
      "Fold 3 : Accuracy - 0.8026\n",
      "Fold 4 : Accuracy - 0.8206\n",
      "Fold 5 : Accuracy - 0.8062\n",
      "Average accuracy - 0.8057\n"
     ]
    }
   ],
   "source": [
    "kfoldmetrics(\"recall\")"
   ]
  },
  {
   "cell_type": "code",
   "execution_count": 11,
   "metadata": {},
   "outputs": [
    {
     "name": "stdout",
     "output_type": "stream",
     "text": [
      "Fold 1 : Accuracy - 0.8570\n",
      "Fold 2 : Accuracy - 0.8212\n",
      "Fold 3 : Accuracy - 0.8399\n",
      "Fold 4 : Accuracy - 0.8384\n",
      "Fold 5 : Accuracy - 0.8392\n",
      "Average accuracy - 0.8391\n"
     ]
    }
   ],
   "source": [
    "kfoldmetrics(\"f1\")"
   ]
  },
  {
   "cell_type": "code",
   "execution_count": 13,
   "metadata": {},
   "outputs": [
    {
     "name": "stdout",
     "output_type": "stream",
     "text": [
      "Fold 1 : Accuracy - 0.8111\n",
      "Fold 2 : Accuracy - 0.7669\n",
      "Fold 3 : Accuracy - 0.7900\n",
      "Fold 4 : Accuracy - 0.7902\n",
      "Fold 5 : Accuracy - 0.7907\n",
      "Average accuracy - 0.7898\n"
     ]
    }
   ],
   "source": [
    "from sklearn.metrics import make_scorer, matthews_corrcoef\n",
    "\n",
    "scorer = make_scorer(matthews_corrcoef)\n",
    "kfoldmetrics(scorer)"
   ]
  },
  {
   "cell_type": "code",
   "execution_count": 14,
   "metadata": {},
   "outputs": [
    {
     "name": "stdout",
     "output_type": "stream",
     "text": [
      "Fold 1 : Accuracy - 0.8096\n",
      "Fold 2 : Accuracy - 0.7650\n",
      "Fold 3 : Accuracy - 0.7885\n",
      "Fold 4 : Accuracy - 0.7899\n",
      "Fold 5 : Accuracy - 0.7896\n",
      "Average accuracy - 0.7885\n"
     ]
    }
   ],
   "source": [
    "from sklearn.metrics import make_scorer, cohen_kappa_score\n",
    "\n",
    "scorer = make_scorer(cohen_kappa_score)\n",
    "\n",
    "kfoldmetrics(scorer)"
   ]
  },
  {
   "cell_type": "code",
   "execution_count": 22,
   "metadata": {},
   "outputs": [
    {
     "data": {
      "image/png": "[encoded data removed]",
      "text/plain": [
       "<Figure size 640x480 with 1 Axes>"
      ]
     },
     "metadata": {},
     "output_type": "display_data"
    }
   ],
   "source": [
    "import matplotlib.pyplot as plt\n",
    "from sklearn.metrics import roc_curve, auc\n",
    "\n",
    "for i, (j, k)  in enumerate(kf.split(X), 1):\n",
    "    xtrain, xtest = X[j], X[k]\n",
    "    ytrain, ytest = y[j], y[k]\n",
    "\n",
    "    model.fit(xtrain, ytrain)\n",
    "    yscores = model.predict_proba(xtest)[:, 1]\n",
    "\n",
    "    fpr, tpr, thresholds = roc_curve(ytest, yscores)\n",
    "    roc_auc = auc(fpr, tpr)\n",
    "    plt.plot(fpr, tpr, lw=2, label=f'Fold {i} (AUC = {roc_auc:.2f})')\n",
    "\n",
    "plt.xlim([0.0, 1.0])\n",
    "plt.ylim([0.0, 1.05])\n",
    "plt.xlabel(\"False Positive Rate (FPR)\")\n",
    "plt.ylabel(\"True Positive Rate (TPR)\")\n",
    "plt.title(\"ROC Curve - K-fold Cross-Validation\")\n",
    "plt.legend(loc=\"lower right\")\n",
    "plt.show()"
   ]
  },
  {
   "cell_type": "code",
   "execution_count": 28,
   "metadata": {},
   "outputs": [],
   "source": [
    "from imblearn.over_sampling import RandomOverSampler\n",
    "\n",
    "mcc_scorer = make_scorer(matthews_corrcoef)\n",
    "kappa_scorer = make_scorer(cohen_kappa_score)\n",
    "\n",
    "\n",
    "def sampling_strategy(sampler):\n",
    "    for i, (train_index, test_index) in enumerate(kf.split(X), 1):\n",
    "        X_train, X_test = X[train_index], X[test_index]\n",
    "        y_train, y_test = y[train_index], y[test_index]\n",
    "\n",
    "        X_train_resampled, y_train_resampled = sampler.fit_resample(X_train, y_train)\n",
    "\n",
    "        model.fit(X_train_resampled, y_train_resampled)\n",
    "\n",
    "        mcc = mcc_scorer(model, X_test, y_test)\n",
    "        kappa = kappa_scorer(model, X_test, y_test)\n",
    "\n",
    "        print(f\"Fold {i}, MCC: {mcc:.4f}, Cohen's Kappa: {kappa:.4f}\")"
   ]
  },
  {
   "cell_type": "code",
   "execution_count": 29,
   "metadata": {},
   "outputs": [
    {
     "name": "stdout",
     "output_type": "stream",
     "text": [
      "Fold 1, MCC: 0.7739, Cohen's Kappa: 0.7704\n",
      "Fold 2, MCC: 0.7459, Cohen's Kappa: 0.7419\n",
      "Fold 3, MCC: 0.7722, Cohen's Kappa: 0.7675\n",
      "Fold 4, MCC: 0.7473, Cohen's Kappa: 0.7380\n",
      "Fold 5, MCC: 0.7508, Cohen's Kappa: 0.7443\n"
     ]
    }
   ],
   "source": [
    "oversampler = RandomOverSampler(random_state=42)\n",
    "sampling_strategy(oversampler)"
   ]
  },
  {
   "cell_type": "code",
   "execution_count": 30,
   "metadata": {},
   "outputs": [
    {
     "name": "stdout",
     "output_type": "stream",
     "text": [
      "Fold 1, MCC: 0.7732, Cohen's Kappa: 0.7697\n",
      "Fold 2, MCC: 0.7449, Cohen's Kappa: 0.7410\n",
      "Fold 3, MCC: 0.7702, Cohen's Kappa: 0.7650\n",
      "Fold 4, MCC: 0.7481, Cohen's Kappa: 0.7385\n",
      "Fold 5, MCC: 0.7544, Cohen's Kappa: 0.7484\n"
     ]
    }
   ],
   "source": [
    "from imblearn.under_sampling import RandomUnderSampler\n",
    "\n",
    "undersampler = RandomUnderSampler(random_state=42)\n",
    "sampling_strategy(undersampler)"
   ]
  },
  {
   "cell_type": "code",
   "execution_count": 31,
   "metadata": {},
   "outputs": [
    {
     "name": "stdout",
     "output_type": "stream",
     "text": [
      "Fold 1, MCC: 0.7793, Cohen's Kappa: 0.7763\n",
      "Fold 2, MCC: 0.7459, Cohen's Kappa: 0.7422\n",
      "Fold 3, MCC: 0.7722, Cohen's Kappa: 0.7675\n",
      "Fold 4, MCC: 0.7543, Cohen's Kappa: 0.7464\n",
      "Fold 5, MCC: 0.7560, Cohen's Kappa: 0.7504\n"
     ]
    }
   ],
   "source": [
    "from imblearn.over_sampling import SMOTE\n",
    "\n",
    "smote = SMOTE(random_state=42)\n",
    "sampling_strategy(smote)"
   ]
  },
  {
   "cell_type": "code",
   "execution_count": 32,
   "metadata": {},
   "outputs": [
    {
     "name": "stdout",
     "output_type": "stream",
     "text": [
      "Fold 1, MCC: 0.7122, Cohen's Kappa: 0.6938\n",
      "Fold 2, MCC: 0.6927, Cohen's Kappa: 0.6754\n",
      "Fold 3, MCC: 0.7079, Cohen's Kappa: 0.6868\n",
      "Fold 4, MCC: 0.6815, Cohen's Kappa: 0.6531\n",
      "Fold 5, MCC: 0.6973, Cohen's Kappa: 0.6759\n"
     ]
    }
   ],
   "source": [
    "from imblearn.over_sampling import BorderlineSMOTE\n",
    "\n",
    "borderline_smote = BorderlineSMOTE(random_state=42)\n",
    "sampling_strategy(borderline_smote)"
   ]
  },
  {
   "cell_type": "code",
   "execution_count": 33,
   "metadata": {},
   "outputs": [
    {
     "name": "stdout",
     "output_type": "stream",
     "text": [
      "Fold 1, MCC: 0.7113, Cohen's Kappa: 0.6878\n",
      "Fold 2, MCC: 0.6789, Cohen's Kappa: 0.6594\n",
      "Fold 3, MCC: 0.6900, Cohen's Kappa: 0.6647\n",
      "Fold 4, MCC: 0.6683, Cohen's Kappa: 0.6353\n",
      "Fold 5, MCC: 0.6890, Cohen's Kappa: 0.6658\n"
     ]
    }
   ],
   "source": [
    "from imblearn.over_sampling import ADASYN\n",
    "\n",
    "andasyn = ADASYN(random_state=42)\n",
    "sampling_strategy(andasyn)"
   ]
  },
  {
   "cell_type": "code",
   "execution_count": 36,
   "metadata": {},
   "outputs": [
    {
     "name": "stderr",
     "output_type": "stream",
     "text": [
      "/home/shusrith/.local/lib/python3.11/site-packages/imblearn/under_sampling/_prototype_selection/_nearmiss.py:203: UserWarning: The number of the samples to be selected is larger than the number of samples available. The balancing ratio cannot be ensure and all samples will be returned.\n",
      "  warnings.warn(\n",
      "/home/shusrith/.local/lib/python3.11/site-packages/imblearn/under_sampling/_prototype_selection/_nearmiss.py:203: UserWarning: The number of the samples to be selected is larger than the number of samples available. The balancing ratio cannot be ensure and all samples will be returned.\n",
      "  warnings.warn(\n",
      "/home/shusrith/.local/lib/python3.11/site-packages/imblearn/under_sampling/_prototype_selection/_nearmiss.py:203: UserWarning: The number of the samples to be selected is larger than the number of samples available. The balancing ratio cannot be ensure and all samples will be returned.\n",
      "  warnings.warn(\n",
      "/home/shusrith/.local/lib/python3.11/site-packages/imblearn/under_sampling/_prototype_selection/_nearmiss.py:203: UserWarning: The number of the samples to be selected is larger than the number of samples available. The balancing ratio cannot be ensure and all samples will be returned.\n",
      "  warnings.warn(\n"
     ]
    },
    {
     "name": "stdout",
     "output_type": "stream",
     "text": [
      "Fold 1, MCC: 0.8016, Cohen's Kappa: 0.8016\n",
      "Fold 2, MCC: 0.7591, Cohen's Kappa: 0.7591\n",
      "Fold 3, MCC: 0.7950, Cohen's Kappa: 0.7949\n",
      "Fold 4, MCC: 0.7772, Cohen's Kappa: 0.7759\n",
      "Fold 5, MCC: 0.7721, Cohen's Kappa: 0.7716\n"
     ]
    },
    {
     "name": "stderr",
     "output_type": "stream",
     "text": [
      "/home/shusrith/.local/lib/python3.11/site-packages/imblearn/under_sampling/_prototype_selection/_nearmiss.py:203: UserWarning: The number of the samples to be selected is larger than the number of samples available. The balancing ratio cannot be ensure and all samples will be returned.\n",
      "  warnings.warn(\n"
     ]
    }
   ],
   "source": [
    "from imblearn.under_sampling import NearMiss\n",
    "\n",
    "near_miss = NearMiss(version=3, sampling_strategy=0.5)\n",
    "sampling_strategy(near_miss)"
   ]
  },
  {
   "cell_type": "code",
   "execution_count": 37,
   "metadata": {},
   "outputs": [
    {
     "ename": "KeyboardInterrupt",
     "evalue": "",
     "output_type": "error",
     "traceback": [
      "\u001b[0;31m---------------------------------------------------------------------------\u001b[0m",
      "\u001b[0;31mKeyboardInterrupt\u001b[0m                         Traceback (most recent call last)",
      "Cell \u001b[0;32mIn[37], line 4\u001b[0m\n\u001b[1;32m      1\u001b[0m \u001b[38;5;28;01mfrom\u001b[39;00m \u001b[38;5;21;01mimblearn\u001b[39;00m\u001b[38;5;21;01m.\u001b[39;00m\u001b[38;5;21;01munder_sampling\u001b[39;00m \u001b[38;5;28;01mimport\u001b[39;00m CondensedNearestNeighbour\n\u001b[1;32m      3\u001b[0m cnn \u001b[38;5;241m=\u001b[39m CondensedNearestNeighbour(random_state\u001b[38;5;241m=\u001b[39m\u001b[38;5;241m42\u001b[39m)\n\u001b[0;32m----> 4\u001b[0m \u001b[43msampling_strategy\u001b[49m\u001b[43m(\u001b[49m\u001b[43mcnn\u001b[49m\u001b[43m)\u001b[49m\n",
      "Cell \u001b[0;32mIn[28], line 12\u001b[0m, in \u001b[0;36msampling_strategy\u001b[0;34m(sampler)\u001b[0m\n\u001b[1;32m      9\u001b[0m X_train, X_test \u001b[38;5;241m=\u001b[39m X[train_index], X[test_index]\n\u001b[1;32m     10\u001b[0m y_train, y_test \u001b[38;5;241m=\u001b[39m y[train_index], y[test_index]\n\u001b[0;32m---> 12\u001b[0m X_train_resampled, y_train_resampled \u001b[38;5;241m=\u001b[39m \u001b[43msampler\u001b[49m\u001b[38;5;241;43m.\u001b[39;49m\u001b[43mfit_resample\u001b[49m\u001b[43m(\u001b[49m\u001b[43mX_train\u001b[49m\u001b[43m,\u001b[49m\u001b[43m \u001b[49m\u001b[43my_train\u001b[49m\u001b[43m)\u001b[49m\n\u001b[1;32m     14\u001b[0m model\u001b[38;5;241m.\u001b[39mfit(X_train_resampled, y_train_resampled)\n\u001b[1;32m     16\u001b[0m mcc \u001b[38;5;241m=\u001b[39m mcc_scorer(model, X_test, y_test)\n",
      "File \u001b[0;32m~/.local/lib/python3.11/site-packages/imblearn/base.py:208\u001b[0m, in \u001b[0;36mBaseSampler.fit_resample\u001b[0;34m(self, X, y)\u001b[0m\n\u001b[1;32m    187\u001b[0m \u001b[38;5;250m\u001b[39m\u001b[38;5;124;03m\"\"\"Resample the dataset.\u001b[39;00m\n\u001b[1;32m    188\u001b[0m \n\u001b[1;32m    189\u001b[0m \u001b[38;5;124;03mParameters\u001b[39;00m\n\u001b[0;32m   (...)\u001b[0m\n\u001b[1;32m    205\u001b[0m \u001b[38;5;124;03m    The corresponding label of `X_resampled`.\u001b[39;00m\n\u001b[1;32m    206\u001b[0m \u001b[38;5;124;03m\"\"\"\u001b[39;00m\n\u001b[1;32m    207\u001b[0m \u001b[38;5;28mself\u001b[39m\u001b[38;5;241m.\u001b[39m_validate_params()\n\u001b[0;32m--> 208\u001b[0m \u001b[38;5;28;01mreturn\u001b[39;00m \u001b[38;5;28;43msuper\u001b[39;49m\u001b[43m(\u001b[49m\u001b[43m)\u001b[49m\u001b[38;5;241;43m.\u001b[39;49m\u001b[43mfit_resample\u001b[49m\u001b[43m(\u001b[49m\u001b[43mX\u001b[49m\u001b[43m,\u001b[49m\u001b[43m \u001b[49m\u001b[43my\u001b[49m\u001b[43m)\u001b[49m\n",
      "File \u001b[0;32m~/.local/lib/python3.11/site-packages/imblearn/base.py:112\u001b[0m, in \u001b[0;36mSamplerMixin.fit_resample\u001b[0;34m(self, X, y)\u001b[0m\n\u001b[1;32m    106\u001b[0m X, y, binarize_y \u001b[38;5;241m=\u001b[39m \u001b[38;5;28mself\u001b[39m\u001b[38;5;241m.\u001b[39m_check_X_y(X, y)\n\u001b[1;32m    108\u001b[0m \u001b[38;5;28mself\u001b[39m\u001b[38;5;241m.\u001b[39msampling_strategy_ \u001b[38;5;241m=\u001b[39m check_sampling_strategy(\n\u001b[1;32m    109\u001b[0m     \u001b[38;5;28mself\u001b[39m\u001b[38;5;241m.\u001b[39msampling_strategy, y, \u001b[38;5;28mself\u001b[39m\u001b[38;5;241m.\u001b[39m_sampling_type\n\u001b[1;32m    110\u001b[0m )\n\u001b[0;32m--> 112\u001b[0m output \u001b[38;5;241m=\u001b[39m \u001b[38;5;28;43mself\u001b[39;49m\u001b[38;5;241;43m.\u001b[39;49m\u001b[43m_fit_resample\u001b[49m\u001b[43m(\u001b[49m\u001b[43mX\u001b[49m\u001b[43m,\u001b[49m\u001b[43m \u001b[49m\u001b[43my\u001b[49m\u001b[43m)\u001b[49m\n\u001b[1;32m    114\u001b[0m y_ \u001b[38;5;241m=\u001b[39m (\n\u001b[1;32m    115\u001b[0m     label_binarize(output[\u001b[38;5;241m1\u001b[39m], classes\u001b[38;5;241m=\u001b[39mnp\u001b[38;5;241m.\u001b[39munique(y)) \u001b[38;5;28;01mif\u001b[39;00m binarize_y \u001b[38;5;28;01melse\u001b[39;00m output[\u001b[38;5;241m1\u001b[39m]\n\u001b[1;32m    116\u001b[0m )\n\u001b[1;32m    118\u001b[0m X_, y_ \u001b[38;5;241m=\u001b[39m arrays_transformer\u001b[38;5;241m.\u001b[39mtransform(output[\u001b[38;5;241m0\u001b[39m], y_)\n",
      "File \u001b[0;32m~/.local/lib/python3.11/site-packages/imblearn/under_sampling/_prototype_selection/_condensed_nearest_neighbour.py:235\u001b[0m, in \u001b[0;36mCondensedNearestNeighbour._fit_resample\u001b[0;34m(self, X, y)\u001b[0m\n\u001b[1;32m    230\u001b[0m         \u001b[38;5;28mself\u001b[39m\u001b[38;5;241m.\u001b[39mestimators_[\u001b[38;5;241m-\u001b[39m\u001b[38;5;241m1\u001b[39m]\u001b[38;5;241m.\u001b[39mfit(C_x, C_y)\n\u001b[1;32m    232\u001b[0m         \u001b[38;5;66;03m# This experimental to speed up the search\u001b[39;00m\n\u001b[1;32m    233\u001b[0m         \u001b[38;5;66;03m# Classify all the element in S and avoid to test the\u001b[39;00m\n\u001b[1;32m    234\u001b[0m         \u001b[38;5;66;03m# well classified elements\u001b[39;00m\n\u001b[0;32m--> 235\u001b[0m         pred_S_y \u001b[38;5;241m=\u001b[39m \u001b[38;5;28;43mself\u001b[39;49m\u001b[38;5;241;43m.\u001b[39;49m\u001b[43mestimators_\u001b[49m\u001b[43m[\u001b[49m\u001b[38;5;241;43m-\u001b[39;49m\u001b[38;5;241;43m1\u001b[39;49m\u001b[43m]\u001b[49m\u001b[38;5;241;43m.\u001b[39;49m\u001b[43mpredict\u001b[49m\u001b[43m(\u001b[49m\u001b[43mS_x\u001b[49m\u001b[43m)\u001b[49m\n\u001b[1;32m    236\u001b[0m         good_classif_label \u001b[38;5;241m=\u001b[39m np\u001b[38;5;241m.\u001b[39munique(\n\u001b[1;32m    237\u001b[0m             np\u001b[38;5;241m.\u001b[39mappend(idx_maj_sample, np\u001b[38;5;241m.\u001b[39mflatnonzero(pred_S_y \u001b[38;5;241m==\u001b[39m S_y))\n\u001b[1;32m    238\u001b[0m         )\n\u001b[1;32m    240\u001b[0m idx_under \u001b[38;5;241m=\u001b[39m np\u001b[38;5;241m.\u001b[39mconcatenate((idx_under, idx_maj_sample), axis\u001b[38;5;241m=\u001b[39m\u001b[38;5;241m0\u001b[39m)\n",
      "File \u001b[0;32m~/.local/lib/python3.11/site-packages/sklearn/neighbors/_classification.py:284\u001b[0m, in \u001b[0;36mKNeighborsClassifier.predict\u001b[0;34m(self, X)\u001b[0m\n\u001b[1;32m    282\u001b[0m \u001b[38;5;28;01mfor\u001b[39;00m k, classes_k \u001b[38;5;129;01min\u001b[39;00m \u001b[38;5;28menumerate\u001b[39m(classes_):\n\u001b[1;32m    283\u001b[0m     \u001b[38;5;28;01mif\u001b[39;00m weights \u001b[38;5;129;01mis\u001b[39;00m \u001b[38;5;28;01mNone\u001b[39;00m:\n\u001b[0;32m--> 284\u001b[0m         mode, _ \u001b[38;5;241m=\u001b[39m \u001b[43m_mode\u001b[49m\u001b[43m(\u001b[49m\u001b[43m_y\u001b[49m\u001b[43m[\u001b[49m\u001b[43mneigh_ind\u001b[49m\u001b[43m,\u001b[49m\u001b[43m \u001b[49m\u001b[43mk\u001b[49m\u001b[43m]\u001b[49m\u001b[43m,\u001b[49m\u001b[43m \u001b[49m\u001b[43maxis\u001b[49m\u001b[38;5;241;43m=\u001b[39;49m\u001b[38;5;241;43m1\u001b[39;49m\u001b[43m)\u001b[49m\n\u001b[1;32m    285\u001b[0m     \u001b[38;5;28;01melse\u001b[39;00m:\n\u001b[1;32m    286\u001b[0m         mode, _ \u001b[38;5;241m=\u001b[39m weighted_mode(_y[neigh_ind, k], weights, axis\u001b[38;5;241m=\u001b[39m\u001b[38;5;241m1\u001b[39m)\n",
      "File \u001b[0;32m~/.local/lib/python3.11/site-packages/sklearn/utils/fixes.py:104\u001b[0m, in \u001b[0;36m_mode\u001b[0;34m(a, axis)\u001b[0m\n\u001b[1;32m    102\u001b[0m \u001b[38;5;28;01mdef\u001b[39;00m \u001b[38;5;21m_mode\u001b[39m(a, axis\u001b[38;5;241m=\u001b[39m\u001b[38;5;241m0\u001b[39m):\n\u001b[1;32m    103\u001b[0m     \u001b[38;5;28;01mif\u001b[39;00m sp_version \u001b[38;5;241m>\u001b[39m\u001b[38;5;241m=\u001b[39m parse_version(\u001b[38;5;124m\"\u001b[39m\u001b[38;5;124m1.9.0\u001b[39m\u001b[38;5;124m\"\u001b[39m):\n\u001b[0;32m--> 104\u001b[0m         mode \u001b[38;5;241m=\u001b[39m \u001b[43mscipy\u001b[49m\u001b[38;5;241;43m.\u001b[39;49m\u001b[43mstats\u001b[49m\u001b[38;5;241;43m.\u001b[39;49m\u001b[43mmode\u001b[49m\u001b[43m(\u001b[49m\u001b[43ma\u001b[49m\u001b[43m,\u001b[49m\u001b[43m \u001b[49m\u001b[43maxis\u001b[49m\u001b[38;5;241;43m=\u001b[39;49m\u001b[43maxis\u001b[49m\u001b[43m,\u001b[49m\u001b[43m \u001b[49m\u001b[43mkeepdims\u001b[49m\u001b[38;5;241;43m=\u001b[39;49m\u001b[38;5;28;43;01mTrue\u001b[39;49;00m\u001b[43m)\u001b[49m\n\u001b[1;32m    105\u001b[0m         \u001b[38;5;28;01mif\u001b[39;00m sp_version \u001b[38;5;241m>\u001b[39m\u001b[38;5;241m=\u001b[39m parse_version(\u001b[38;5;124m\"\u001b[39m\u001b[38;5;124m1.10.999\u001b[39m\u001b[38;5;124m\"\u001b[39m):\n\u001b[1;32m    106\u001b[0m             \u001b[38;5;66;03m# scipy.stats.mode has changed returned array shape with axis=None\u001b[39;00m\n\u001b[1;32m    107\u001b[0m             \u001b[38;5;66;03m# and keepdims=True, see https://github.com/scipy/scipy/pull/17561\u001b[39;00m\n\u001b[1;32m    108\u001b[0m             \u001b[38;5;28;01mif\u001b[39;00m axis \u001b[38;5;129;01mis\u001b[39;00m \u001b[38;5;28;01mNone\u001b[39;00m:\n",
      "File \u001b[0;32m~/.local/lib/python3.11/site-packages/scipy/stats/_axis_nan_policy.py:591\u001b[0m, in \u001b[0;36m_axis_nan_policy_factory.<locals>.axis_nan_policy_decorator.<locals>.axis_nan_policy_wrapper\u001b[0;34m(***failed resolving arguments***)\u001b[0m\n\u001b[1;32m    588\u001b[0m         \u001b[38;5;28;01mreturn\u001b[39;00m result_to_tuple(hypotest_fun_out(\u001b[38;5;241m*\u001b[39msamples, \u001b[38;5;241m*\u001b[39m\u001b[38;5;241m*\u001b[39mkwds))\n\u001b[1;32m    590\u001b[0m x \u001b[38;5;241m=\u001b[39m np\u001b[38;5;241m.\u001b[39mmoveaxis(x, axis, \u001b[38;5;241m0\u001b[39m)\n\u001b[0;32m--> 591\u001b[0m res \u001b[38;5;241m=\u001b[39m \u001b[43mnp\u001b[49m\u001b[38;5;241;43m.\u001b[39;49m\u001b[43mapply_along_axis\u001b[49m\u001b[43m(\u001b[49m\u001b[43mhypotest_fun\u001b[49m\u001b[43m,\u001b[49m\u001b[43m \u001b[49m\u001b[43maxis\u001b[49m\u001b[38;5;241;43m=\u001b[39;49m\u001b[38;5;241;43m0\u001b[39;49m\u001b[43m,\u001b[49m\u001b[43m \u001b[49m\u001b[43marr\u001b[49m\u001b[38;5;241;43m=\u001b[39;49m\u001b[43mx\u001b[49m\u001b[43m)\u001b[49m\n\u001b[1;32m    592\u001b[0m res \u001b[38;5;241m=\u001b[39m _add_reduced_axes(res, reduced_axes, keepdims)\n\u001b[1;32m    593\u001b[0m \u001b[38;5;28;01mreturn\u001b[39;00m tuple_to_result(\u001b[38;5;241m*\u001b[39mres)\n",
      "File \u001b[0;32m~/.local/lib/python3.11/site-packages/numpy/lib/shape_base.py:402\u001b[0m, in \u001b[0;36mapply_along_axis\u001b[0;34m(func1d, axis, arr, *args, **kwargs)\u001b[0m\n\u001b[1;32m    400\u001b[0m buff[ind0] \u001b[38;5;241m=\u001b[39m res\n\u001b[1;32m    401\u001b[0m \u001b[38;5;28;01mfor\u001b[39;00m ind \u001b[38;5;129;01min\u001b[39;00m inds:\n\u001b[0;32m--> 402\u001b[0m     buff[ind] \u001b[38;5;241m=\u001b[39m asanyarray(\u001b[43mfunc1d\u001b[49m\u001b[43m(\u001b[49m\u001b[43minarr_view\u001b[49m\u001b[43m[\u001b[49m\u001b[43mind\u001b[49m\u001b[43m]\u001b[49m\u001b[43m,\u001b[49m\u001b[43m \u001b[49m\u001b[38;5;241;43m*\u001b[39;49m\u001b[43margs\u001b[49m\u001b[43m,\u001b[49m\u001b[43m \u001b[49m\u001b[38;5;241;43m*\u001b[39;49m\u001b[38;5;241;43m*\u001b[39;49m\u001b[43mkwargs\u001b[49m\u001b[43m)\u001b[49m)\n\u001b[1;32m    404\u001b[0m \u001b[38;5;28;01mif\u001b[39;00m \u001b[38;5;129;01mnot\u001b[39;00m \u001b[38;5;28misinstance\u001b[39m(res, matrix):\n\u001b[1;32m    405\u001b[0m     \u001b[38;5;66;03m# wrap the array, to preserve subclasses\u001b[39;00m\n\u001b[1;32m    406\u001b[0m     buff \u001b[38;5;241m=\u001b[39m res\u001b[38;5;241m.\u001b[39m__array_wrap__(buff)\n",
      "File \u001b[0;32m~/.local/lib/python3.11/site-packages/scipy/stats/_axis_nan_policy.py:588\u001b[0m, in \u001b[0;36m_axis_nan_policy_factory.<locals>.axis_nan_policy_decorator.<locals>.axis_nan_policy_wrapper.<locals>.hypotest_fun\u001b[0;34m(x)\u001b[0m\n\u001b[1;32m    586\u001b[0m \u001b[38;5;28;01mif\u001b[39;00m is_too_small(samples):\n\u001b[1;32m    587\u001b[0m     \u001b[38;5;28;01mreturn\u001b[39;00m np\u001b[38;5;241m.\u001b[39mfull(n_out, np\u001b[38;5;241m.\u001b[39mnan)\n\u001b[0;32m--> 588\u001b[0m \u001b[38;5;28;01mreturn\u001b[39;00m result_to_tuple(\u001b[43mhypotest_fun_out\u001b[49m\u001b[43m(\u001b[49m\u001b[38;5;241;43m*\u001b[39;49m\u001b[43msamples\u001b[49m\u001b[43m,\u001b[49m\u001b[43m \u001b[49m\u001b[38;5;241;43m*\u001b[39;49m\u001b[38;5;241;43m*\u001b[39;49m\u001b[43mkwds\u001b[49m\u001b[43m)\u001b[49m)\n",
      "File \u001b[0;32m~/.local/lib/python3.11/site-packages/scipy/stats/_stats_py.py:517\u001b[0m, in \u001b[0;36mmode\u001b[0;34m(a, axis, nan_policy, keepdims)\u001b[0m\n\u001b[1;32m    514\u001b[0m     NaN \u001b[38;5;241m=\u001b[39m _get_nan(a)\n\u001b[1;32m    515\u001b[0m     \u001b[38;5;28;01mreturn\u001b[39;00m ModeResult(\u001b[38;5;241m*\u001b[39mnp\u001b[38;5;241m.\u001b[39marray([NaN, \u001b[38;5;241m0\u001b[39m], dtype\u001b[38;5;241m=\u001b[39mNaN\u001b[38;5;241m.\u001b[39mdtype))\n\u001b[0;32m--> 517\u001b[0m vals, cnts \u001b[38;5;241m=\u001b[39m \u001b[43mnp\u001b[49m\u001b[38;5;241;43m.\u001b[39;49m\u001b[43munique\u001b[49m\u001b[43m(\u001b[49m\u001b[43ma\u001b[49m\u001b[43m,\u001b[49m\u001b[43m \u001b[49m\u001b[43mreturn_counts\u001b[49m\u001b[38;5;241;43m=\u001b[39;49m\u001b[38;5;28;43;01mTrue\u001b[39;49;00m\u001b[43m)\u001b[49m\n\u001b[1;32m    518\u001b[0m modes, counts \u001b[38;5;241m=\u001b[39m vals[cnts\u001b[38;5;241m.\u001b[39margmax()], cnts\u001b[38;5;241m.\u001b[39mmax()\n\u001b[1;32m    519\u001b[0m \u001b[38;5;28;01mreturn\u001b[39;00m ModeResult(modes[()], counts[()])\n",
      "File \u001b[0;32m~/.local/lib/python3.11/site-packages/numpy/lib/arraysetops.py:274\u001b[0m, in \u001b[0;36munique\u001b[0;34m(ar, return_index, return_inverse, return_counts, axis, equal_nan)\u001b[0m\n\u001b[1;32m    272\u001b[0m ar \u001b[38;5;241m=\u001b[39m np\u001b[38;5;241m.\u001b[39masanyarray(ar)\n\u001b[1;32m    273\u001b[0m \u001b[38;5;28;01mif\u001b[39;00m axis \u001b[38;5;129;01mis\u001b[39;00m \u001b[38;5;28;01mNone\u001b[39;00m:\n\u001b[0;32m--> 274\u001b[0m     ret \u001b[38;5;241m=\u001b[39m \u001b[43m_unique1d\u001b[49m\u001b[43m(\u001b[49m\u001b[43mar\u001b[49m\u001b[43m,\u001b[49m\u001b[43m \u001b[49m\u001b[43mreturn_index\u001b[49m\u001b[43m,\u001b[49m\u001b[43m \u001b[49m\u001b[43mreturn_inverse\u001b[49m\u001b[43m,\u001b[49m\u001b[43m \u001b[49m\u001b[43mreturn_counts\u001b[49m\u001b[43m,\u001b[49m\u001b[43m \u001b[49m\n\u001b[1;32m    275\u001b[0m \u001b[43m                    \u001b[49m\u001b[43mequal_nan\u001b[49m\u001b[38;5;241;43m=\u001b[39;49m\u001b[43mequal_nan\u001b[49m\u001b[43m)\u001b[49m\n\u001b[1;32m    276\u001b[0m     \u001b[38;5;28;01mreturn\u001b[39;00m _unpack_tuple(ret)\n\u001b[1;32m    278\u001b[0m \u001b[38;5;66;03m# axis was specified and not None\u001b[39;00m\n",
      "File \u001b[0;32m~/.local/lib/python3.11/site-packages/numpy/lib/arraysetops.py:363\u001b[0m, in \u001b[0;36m_unique1d\u001b[0;34m(ar, return_index, return_inverse, return_counts, equal_nan)\u001b[0m\n\u001b[1;32m    361\u001b[0m     ret \u001b[38;5;241m+\u001b[39m\u001b[38;5;241m=\u001b[39m (inv_idx,)\n\u001b[1;32m    362\u001b[0m \u001b[38;5;28;01mif\u001b[39;00m return_counts:\n\u001b[0;32m--> 363\u001b[0m     idx \u001b[38;5;241m=\u001b[39m \u001b[43mnp\u001b[49m\u001b[38;5;241;43m.\u001b[39;49m\u001b[43mconcatenate\u001b[49m\u001b[43m(\u001b[49m\u001b[43mnp\u001b[49m\u001b[38;5;241;43m.\u001b[39;49m\u001b[43mnonzero\u001b[49m\u001b[43m(\u001b[49m\u001b[43mmask\u001b[49m\u001b[43m)\u001b[49m\u001b[43m \u001b[49m\u001b[38;5;241;43m+\u001b[39;49m\u001b[43m \u001b[49m\u001b[43m(\u001b[49m\u001b[43m[\u001b[49m\u001b[43mmask\u001b[49m\u001b[38;5;241;43m.\u001b[39;49m\u001b[43msize\u001b[49m\u001b[43m]\u001b[49m\u001b[43m,\u001b[49m\u001b[43m)\u001b[49m\u001b[43m)\u001b[49m\n\u001b[1;32m    364\u001b[0m     ret \u001b[38;5;241m+\u001b[39m\u001b[38;5;241m=\u001b[39m (np\u001b[38;5;241m.\u001b[39mdiff(idx),)\n\u001b[1;32m    365\u001b[0m \u001b[38;5;28;01mreturn\u001b[39;00m ret\n",
      "\u001b[0;31mKeyboardInterrupt\u001b[0m: "
     ]
    }
   ],
   "source": [
    "from imblearn.under_sampling import CondensedNearestNeighbour\n",
    "\n",
    "cnn = CondensedNearestNeighbour(random_state=42)\n",
    "sampling_strategy(cnn)"
   ]
  },
  {
   "cell_type": "code",
   "execution_count": 38,
   "metadata": {},
   "outputs": [
    {
     "name": "stdout",
     "output_type": "stream",
     "text": [
      "Fold 1, MCC: 0.8035, Cohen's Kappa: 0.8030\n",
      "Fold 2, MCC: 0.7717, Cohen's Kappa: 0.7710\n",
      "Fold 3, MCC: 0.7942, Cohen's Kappa: 0.7937\n",
      "Fold 4, MCC: 0.7864, Cohen's Kappa: 0.7864\n",
      "Fold 5, MCC: 0.7909, Cohen's Kappa: 0.7907\n"
     ]
    }
   ],
   "source": [
    "from imblearn.under_sampling import TomekLinks\n",
    "\n",
    "tl = TomekLinks()\n",
    "sampling_strategy(tl)"
   ]
  },
  {
   "cell_type": "code",
   "execution_count": 39,
   "metadata": {},
   "outputs": [
    {
     "name": "stdout",
     "output_type": "stream",
     "text": [
      "Fold 1, MCC: 0.7988, Cohen's Kappa: 0.7987\n",
      "Fold 2, MCC: 0.7633, Cohen's Kappa: 0.7629\n",
      "Fold 3, MCC: 0.7927, Cohen's Kappa: 0.7920\n",
      "Fold 4, MCC: 0.7749, Cohen's Kappa: 0.7715\n",
      "Fold 5, MCC: 0.7717, Cohen's Kappa: 0.7705\n"
     ]
    }
   ],
   "source": [
    "from imblearn.under_sampling import EditedNearestNeighbours\n",
    "\n",
    "enn = EditedNearestNeighbours()\n",
    "sampling_strategy(enn)"
   ]
  },
  {
   "cell_type": "code",
   "execution_count": 41,
   "metadata": {},
   "outputs": [
    {
     "name": "stdout",
     "output_type": "stream",
     "text": [
      "Fold 1, MCC: 0.8009, Cohen's Kappa: 0.8007\n",
      "Fold 2, MCC: 0.7636, Cohen's Kappa: 0.7631\n",
      "Fold 3, MCC: 0.7961, Cohen's Kappa: 0.7954\n",
      "Fold 4, MCC: 0.7774, Cohen's Kappa: 0.7744\n",
      "Fold 5, MCC: 0.7687, Cohen's Kappa: 0.7676\n"
     ]
    }
   ],
   "source": [
    "from imblearn.under_sampling import OneSidedSelection, NeighbourhoodCleaningRule\n",
    "\n",
    "for i, (train_index, test_index) in enumerate(kf.split(X), 1):\n",
    "    X_train, X_test = X[train_index], X[test_index]\n",
    "    y_train, y_test = y[train_index], y[test_index]\n",
    "    \n",
    "    oss = OneSidedSelection()\n",
    "    X_train_resampled, y_train_resampled = oss.fit_resample(X_train, y_train)\n",
    "\n",
    "    ncr = NeighbourhoodCleaningRule()\n",
    "    X_train_resampled, y_train_resampled = ncr.fit_resample(X_train_resampled, y_train_resampled)\n",
    "\n",
    "    model.fit(X_train_resampled, y_train_resampled)\n",
    "\n",
    "    mcc = mcc_scorer(model, X_test, y_test)\n",
    "    kappa = kappa_scorer(model, X_test, y_test)\n",
    "\n",
    "    print(f\"Fold {i}, MCC: {mcc:.4f}, Cohen's Kappa: {kappa:.4f}\")"
   ]
  },
  {
   "cell_type": "code",
   "execution_count": 42,
   "metadata": {},
   "outputs": [
    {
     "name": "stdout",
     "output_type": "stream",
     "text": [
      "Fold 1, MCC: 0.7801, Cohen's Kappa: 0.7774\n",
      "Fold 2, MCC: 0.7476, Cohen's Kappa: 0.7439\n",
      "Fold 3, MCC: 0.7729, Cohen's Kappa: 0.7683\n",
      "Fold 4, MCC: 0.7563, Cohen's Kappa: 0.7486\n",
      "Fold 5, MCC: 0.7563, Cohen's Kappa: 0.7510\n"
     ]
    }
   ],
   "source": [
    "from imblearn.combine import SMOTETomek\n",
    "\n",
    "st = SMOTETomek(random_state=42)\n",
    "sampling_strategy(st)"
   ]
  },
  {
   "cell_type": "code",
   "execution_count": 43,
   "metadata": {},
   "outputs": [
    {
     "name": "stdout",
     "output_type": "stream",
     "text": [
      "Fold 1, MCC: 0.7797, Cohen's Kappa: 0.7769\n",
      "Fold 2, MCC: 0.7487, Cohen's Kappa: 0.7451\n",
      "Fold 3, MCC: 0.7725, Cohen's Kappa: 0.7681\n",
      "Fold 4, MCC: 0.7609, Cohen's Kappa: 0.7538\n",
      "Fold 5, MCC: 0.7563, Cohen's Kappa: 0.7510\n"
     ]
    }
   ],
   "source": [
    "from imblearn.pipeline import make_pipeline, Pipeline\n",
    "\n",
    "for i, (train_index, test_index) in enumerate(kf.split(X), 1):\n",
    "    X_train, X_test = X[train_index], X[test_index]\n",
    "    y_train, y_test = y[train_index], y[test_index]\n",
    "\n",
    "    pipeline = make_pipeline(\n",
    "        RandomOverSampler(random_state=42),\n",
    "        RandomUnderSampler(random_state=42),\n",
    "        LogisticRegression(),\n",
    "    )\n",
    "\n",
    "    pipeline.fit(X_train, y_train)\n",
    "\n",
    "    mcc = mcc_scorer(model, X_test, y_test)\n",
    "    kappa = kappa_scorer(model, X_test, y_test)\n",
    "\n",
    "    print(f\"Fold {i}, MCC: {mcc:.4f}, Cohen's Kappa: {kappa:.4f}\")"
   ]
  },
  {
   "cell_type": "code",
   "execution_count": null,
   "metadata": {},
   "outputs": [],
   "source": []
  }
 ],
 "metadata": {
  "kernelspec": {
   "display_name": "Python 3",
   "language": "python",
   "name": "python3"
  },
  "language_info": {
   "codemirror_mode": {
    "name": "ipython",
    "version": 3
   },
   "file_extension": ".py",
   "mimetype": "text/x-python",
   "name": "python",
   "nbconvert_exporter": "python",
   "pygments_lexer": "ipython3",
   "version": "3.11.4"
  }
 },
 "nbformat": 4,
 "nbformat_minor": 2
}
