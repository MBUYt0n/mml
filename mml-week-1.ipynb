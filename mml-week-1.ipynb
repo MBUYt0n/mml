{
 "cells": [
  {
   "cell_type": "markdown",
   "metadata": {},
   "source": [
    "Part 1 (predicting single output with multiple\n",
    "input) ¶\n",
    "Consider the animal discussed in the class. It looks at the object in front of it and then\n",
    "assesses three paramters i.e. hardness, softness, age to infer a decision. Note that it\n",
    "has completed the learning process and now it is merely doing inferencing."
   ]
  },
  {
   "cell_type": "code",
   "execution_count": 1,
   "metadata": {},
   "outputs": [
    {
     "name": "stdout",
     "output_type": "stream",
     "text": [
      "0.9800000000000001\n"
     ]
    }
   ],
   "source": [
    "def w_sum(a,b):\n",
    "    assert(len(a) == len(b))\n",
    "    output = 0\n",
    "    for i in range(len(a)):\n",
    "        output += (a[i] * b[i])\n",
    "    return output\n",
    "\n",
    "weights = [0.1, 0.2, 0] # This is already learnt\n",
    "\n",
    "def neural_network(input, weights):\n",
    "    pred = w_sum(input,weights)\n",
    "    return pred\n",
    "height = [8.5, 9.5, 9.9, 9.0]\n",
    "weight = [0.65, 0.8, 0.8, 0.9]\n",
    "age = [1.2, 1.3, 0.5, 1.0]\n",
    "\n",
    "input = [height[0],weight[0],age[0]]\n",
    "pred = neural_network(input,weights)\n",
    "print(pred)"
   ]
  },
  {
   "cell_type": "code",
   "execution_count": 2,
   "metadata": {},
   "outputs": [
    {
     "name": "stdout",
     "output_type": "stream",
     "text": [
      "0.9800000000000001\n"
     ]
    }
   ],
   "source": [
    "import numpy as np\n",
    "\n",
    "\n",
    "def w_sum(a, b):\n",
    "    assert len(a) == len(b)\n",
    "    output = np.dot(a, b)\n",
    "    return output\n",
    "\n",
    "\n",
    "weights = [0.1, 0.2, 0]  # This is already learnt\n",
    "\n",
    "\n",
    "def neural_network(input, weights):\n",
    "    pred = w_sum(input, weights)\n",
    "    return pred\n",
    "\n",
    "\n",
    "height = [8.5, 9.5, 9.9, 9.0]\n",
    "weight = [0.65, 0.8, 0.8, 0.9]\n",
    "age = [1.2, 1.3, 0.5, 1.0]\n",
    "\n",
    "input = [height[0], weight[0], age[0]]\n",
    "pred = neural_network(input, weights)\n",
    "print(pred)\n"
   ]
  },
  {
   "cell_type": "markdown",
   "metadata": {},
   "source": [
    "Part 2 ( predicting multiple output with\n",
    "multiple input)\n",
    "Consider a situation where the animal (cat) is inferring not a single number but three\n",
    "numbers. Let us consider them as approach, dont care and run away.\n",
    "As each of these three numbers is decided in a weighted manner as in the above\n",
    "example, you are now dealing with a matrix of weights instead of a vector of weights.\n",
    "So, when the animal (cat) sees somebody in front, it has a vector of height, weight and\n",
    "age. Then it does a vector matrix multiplication to get a vector of [approach, dont care,\n",
    "run away]"
   ]
  },
  {
   "cell_type": "code",
   "execution_count": 6,
   "metadata": {},
   "outputs": [
    {
     "ename": "TypeError",
     "evalue": "can't multiply sequence by non-int of type 'float'",
     "output_type": "error",
     "traceback": [
      "\u001b[0;31m---------------------------------------------------------------------------\u001b[0m",
      "\u001b[0;31mTypeError\u001b[0m                                 Traceback (most recent call last)",
      "Cell \u001b[0;32mIn[6], line 34\u001b[0m\n\u001b[1;32m     30\u001b[0m     \u001b[38;5;28;01mreturn\u001b[39;00m pred\n\u001b[1;32m     33\u001b[0m \u001b[38;5;28minput\u001b[39m \u001b[38;5;241m=\u001b[39m [height[\u001b[38;5;241m0\u001b[39m], weight[\u001b[38;5;241m0\u001b[39m], age[\u001b[38;5;241m0\u001b[39m]]\n\u001b[0;32m---> 34\u001b[0m pred \u001b[38;5;241m=\u001b[39m \u001b[43mneural_network\u001b[49m\u001b[43m(\u001b[49m\u001b[38;5;28;43minput\u001b[39;49m\u001b[43m,\u001b[49m\u001b[43m \u001b[49m\u001b[43mweights\u001b[49m\u001b[43m)\u001b[49m\n\u001b[1;32m     35\u001b[0m \u001b[38;5;28mprint\u001b[39m(pred)\n",
      "Cell \u001b[0;32mIn[6], line 29\u001b[0m, in \u001b[0;36mneural_network\u001b[0;34m(input, weights)\u001b[0m\n\u001b[1;32m     28\u001b[0m \u001b[38;5;28;01mdef\u001b[39;00m \u001b[38;5;21mneural_network\u001b[39m(\u001b[38;5;28minput\u001b[39m, weights):\n\u001b[0;32m---> 29\u001b[0m     pred \u001b[38;5;241m=\u001b[39m \u001b[43mvect_mat_mul\u001b[49m\u001b[43m(\u001b[49m\u001b[38;5;28;43minput\u001b[39;49m\u001b[43m,\u001b[49m\u001b[43m \u001b[49m\u001b[43mweights\u001b[49m\u001b[43m)\u001b[49m\n\u001b[1;32m     30\u001b[0m     \u001b[38;5;28;01mreturn\u001b[39;00m pred\n",
      "Cell \u001b[0;32mIn[6], line 22\u001b[0m, in \u001b[0;36mvect_mat_mul\u001b[0;34m(vect, matrix)\u001b[0m\n\u001b[1;32m     17\u001b[0m \u001b[38;5;28;01massert\u001b[39;00m \u001b[38;5;28mlen\u001b[39m(vect) \u001b[38;5;241m==\u001b[39m \u001b[38;5;28mlen\u001b[39m(\n\u001b[1;32m     18\u001b[0m     matrix[\u001b[38;5;241m0\u001b[39m]\n\u001b[1;32m     19\u001b[0m )\n\u001b[1;32m     20\u001b[0m output \u001b[38;5;241m=\u001b[39m np\u001b[38;5;241m.\u001b[39mzeros(\u001b[38;5;28mlen\u001b[39m(matrix))\n\u001b[0;32m---> 22\u001b[0m output \u001b[38;5;241m=\u001b[39m \u001b[43mw_sum\u001b[49m\u001b[43m(\u001b[49m\u001b[43mvect\u001b[49m\u001b[43m,\u001b[49m\u001b[43m \u001b[49m\u001b[43mmatrix\u001b[49m\u001b[43m)\u001b[49m\n\u001b[1;32m     25\u001b[0m \u001b[38;5;28;01mreturn\u001b[39;00m output\n",
      "Cell \u001b[0;32mIn[6], line 12\u001b[0m, in \u001b[0;36mw_sum\u001b[0;34m(a, b)\u001b[0m\n\u001b[1;32m     10\u001b[0m output \u001b[38;5;241m=\u001b[39m \u001b[38;5;241m0\u001b[39m\n\u001b[1;32m     11\u001b[0m \u001b[38;5;28;01mfor\u001b[39;00m i \u001b[38;5;129;01min\u001b[39;00m \u001b[38;5;28mrange\u001b[39m(\u001b[38;5;28mlen\u001b[39m(a)):\n\u001b[0;32m---> 12\u001b[0m     output \u001b[38;5;241m+\u001b[39m\u001b[38;5;241m=\u001b[39m \u001b[43ma\u001b[49m\u001b[43m[\u001b[49m\u001b[43mi\u001b[49m\u001b[43m]\u001b[49m\u001b[43m \u001b[49m\u001b[38;5;241;43m*\u001b[39;49m\u001b[43m \u001b[49m\u001b[43mb\u001b[49m\u001b[43m[\u001b[49m\u001b[43mi\u001b[49m\u001b[43m]\u001b[49m\n\u001b[1;32m     13\u001b[0m \u001b[38;5;28;01mreturn\u001b[39;00m output\n",
      "\u001b[0;31mTypeError\u001b[0m: can't multiply sequence by non-int of type 'float'"
     ]
    }
   ],
   "source": [
    "weights = [\n",
    "    [0.1, 0.1, -0.3],  # approach\n",
    "    [0.1, 0.2, 0.0],  # dont care\n",
    "    [0.0, 1.3, 0.1],\n",
    "]  # run away\n",
    "\n",
    "\n",
    "def w_sum(a, b):\n",
    "    assert len(a) == len(b)\n",
    "    output = 0\n",
    "    for i in range(len(a)):\n",
    "        output += a[i] * b[i]\n",
    "    return output\n",
    "\n",
    "\n",
    "def vect_mat_mul(vect, matrix):\n",
    "    assert len(vect) == len(\n",
    "        matrix[0]\n",
    "    )\n",
    "    output = np.zeros(len(matrix))\n",
    "\n",
    "    for i in range(len(matrix)):\n",
    "        output[i] = w_sum(vect, matrix[i])\n",
    "\n",
    "\n",
    "    return output\n",
    "\n",
    "\n",
    "def neural_network(input, weights):\n",
    "    pred = vect_mat_mul(input, weights)\n",
    "    return pred\n",
    "\n",
    "\n",
    "input = [height[0], weight[0], age[0]]\n",
    "pred = neural_network(input, weights)\n",
    "print(pred)"
   ]
  },
  {
   "cell_type": "code",
   "execution_count": null,
   "metadata": {},
   "outputs": [],
   "source": []
  }
 ],
 "metadata": {
  "kernelspec": {
   "display_name": "Python 3",
   "language": "python",
   "name": "python3"
  },
  "language_info": {
   "codemirror_mode": {
    "name": "ipython",
    "version": 3
   },
   "file_extension": ".py",
   "mimetype": "text/x-python",
   "name": "python",
   "nbconvert_exporter": "python",
   "pygments_lexer": "ipython3",
   "version": "3.11.4"
  }
 },
 "nbformat": 4,
 "nbformat_minor": 2
}
