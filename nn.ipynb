{
 "cells": [
  {
   "cell_type": "code",
   "execution_count": 110,
   "metadata": {},
   "outputs": [],
   "source": [
    "from sklearn.datasets import make_classification    \n",
    "\n",
    "x, y = make_classification(n_samples=100, n_features=5)"
   ]
  },
  {
   "cell_type": "code",
   "execution_count": 111,
   "metadata": {},
   "outputs": [],
   "source": [
    "from sklearn.model_selection import train_test_split\n",
    "\n",
    "xtrain, xtest, ytrain, ytest = train_test_split(x, y, test_size=0.2, random_state=42)\n"
   ]
  },
  {
   "cell_type": "code",
   "execution_count": 112,
   "metadata": {},
   "outputs": [],
   "source": [
    "import numpy as np\n",
    "import pandas as pd\n",
    "\n",
    "def sigmoid(x):\n",
    "    return 1 / (1 + np.exp(-x))\n",
    "\n",
    "\n",
    "def diff_sigmoid(x):\n",
    "    return x * (1 - x)\n",
    "\n",
    "def loss(ypred, yact):\n",
    "    return np.sum((ypred - yact) ** 2) / 2\n"
   ]
  },
  {
   "cell_type": "code",
   "execution_count": 113,
   "metadata": {},
   "outputs": [],
   "source": [
    "def train(hidden, output, x):\n",
    "    z = sigmoid(np.dot(x, hidden.weights) + hidden.bias)\n",
    "    q = sigmoid((output.weights * z) + output.bias)\n",
    "    return [z, q]\n",
    "\n",
    "def backprop(output, a, ytrain):\n",
    "    delo = (np.array(a[1]) - ytrain) * diff_sigmoid(np.array(a[1]))\n",
    "    delh = delo * output.weights * diff_sigmoid(np.array(a[0]))\n",
    "    return [delh, delo]\n",
    "    "
   ]
  },
  {
   "cell_type": "code",
   "execution_count": 114,
   "metadata": {},
   "outputs": [],
   "source": [
    "class Neuron:\n",
    "    def __init__(self, isLast, weights) -> None:\n",
    "        if weights == 1:\n",
    "            self.weights = np.random.randn(weights) * 0.01\n",
    "            self.weights = self.weights.reshape(1, 1)\n",
    "        else:\n",
    "            self.weights = np.random.randn(weights) * 0.01\n",
    "        self.bias = 0\n",
    "        self.isLast = isLast\n",
    "\n",
    "hidden = Neuron(False, 5)\n",
    "output = Neuron(True, 1)"
   ]
  },
  {
   "cell_type": "code",
   "execution_count": 115,
   "metadata": {},
   "outputs": [
    {
     "name": "stdout",
     "output_type": "stream",
     "text": [
      "0 10.000564985300896\n",
      "1 9.874575738167161\n",
      "2 9.750222027164295\n",
      "3 9.627494509399536\n",
      "4 9.506383454913358\n",
      "5 9.38687873205812\n",
      "6 9.268969797796032\n",
      "7 9.152645692440254\n",
      "8 9.037895038388028\n",
      "9 8.924706042420425\n",
      "10 8.813066501169429\n",
      "11 8.702963809379082\n",
      "12 8.594384970613028\n",
      "13 8.487316610085813\n",
      "14 8.381744989319511\n",
      "15 8.277656022350541\n",
      "16 8.175035293233806\n",
      "17 8.073868074612575\n",
      "18 7.974139347142517\n",
      "19 7.875833819577419\n",
      "20 7.778935949341912\n",
      "21 7.683429963433301\n",
      "22 7.589299879510294\n",
      "23 7.496529527040993\n",
      "24 7.405102568396116\n",
      "25 7.3150025197859945\n",
      "26 7.226212771951504\n",
      "27 7.1387166105298405\n",
      "28 7.052497236025889\n",
      "29 6.9675377833289645\n",
      "30 6.883821340722987\n",
      "31 6.801330968345662\n",
      "32 6.720049716059101\n",
      "33 6.639960640700506\n",
      "34 6.561046822687173\n",
      "35 6.483291381955109\n",
      "36 6.40667749321514\n",
      "37 6.3311884005143835\n",
      "38 6.2568074310947175\n",
      "39 6.183518008543026\n",
      "40 6.111303665230956\n",
      "41 6.040148054044473\n",
      "42 5.970034959405766\n",
      "43 5.9009483075921025\n",
      "44 5.832872176358018\n",
      "45 5.7657908038687715\n",
      "46 5.699688596954501\n",
      "47 5.634550138695651\n",
      "48 5.570360195351486\n",
      "49 5.507103722644433\n",
      "50 5.444765871413964\n",
      "51 5.383331992654536\n",
      "52 5.322787641952899\n",
      "53 5.263118583340809\n",
      "54 5.2043107925798076\n",
      "55 5.146350459895432\n",
      "56 5.0892239921787645\n",
      "57 5.032918014673834\n",
      "58 4.977419372169933\n",
      "59 4.922715129718409\n",
      "60 4.868792572894019\n",
      "61 4.815639207621385\n",
      "62 4.7632427595875235\n",
      "63 4.711591173261854\n",
      "64 4.660672610545413\n",
      "65 4.610475449071352\n",
      "66 4.5609882801790445\n",
      "67 4.512199906584378\n",
      "68 4.464099339768893\n",
      "69 4.416675797110594\n",
      "70 4.3699186987791965\n",
      "71 4.323817664418589\n",
      "72 4.278362509639055\n",
      "73 4.233543242341685\n",
      "74 4.189350058896984\n",
      "75 4.145773340199382\n",
      "76 4.10280364761883\n",
      "77 4.060431718870107\n",
      "78 4.018648463819813\n",
      "79 3.9774449602503417\n",
      "80 3.936812449599267\n",
      "81 3.896742332691794\n",
      "82 3.8572261654829134\n",
      "83 3.818255654825012\n",
      "84 3.7798226542755833\n",
      "85 3.7419191599586834\n",
      "86 3.704537306492645\n",
      "87 3.667669362995463\n",
      "88 3.6313077291781237\n",
      "89 3.5954449315350456\n",
      "90 3.560073619639633\n",
      "91 3.52518656255187\n",
      "92 3.4907766453437503\n",
      "93 3.456836865747314\n",
      "94 3.423360330928995\n",
      "95 3.3903402543930232\n",
      "96 3.35776995301567\n",
      "97 3.325642844211237\n",
      "98 3.2939524432298617\n",
      "99 3.262692360586428\n"
     ]
    }
   ],
   "source": [
    "for i in range(1):\n",
    "    a = train(hidden, output, xtrain)\n",
    "    dels = backprop(output, a, ytrain)\n",
    "    delo = np.dot(dels[1], a[0])\n",
    "    output.weights = (output.weights - (0.01 * delo)).reshape(-1)\n",
    "    output.bias = output.bias - (0.1 * dels[1])\n",
    "    delh = np.dot(dels[0], xtrain)\n",
    "    hidden.weights = (hidden.weights - (0.01 * delh)).reshape(-1)\n",
    "    print(i, loss(a[1], ytrain))"
   ]
  },
  {
   "cell_type": "code",
   "execution_count": 116,
   "metadata": {},
   "outputs": [
    {
     "data": {
      "text/plain": [
       "((5,), 0, (1,), (1, 80))"
      ]
     },
     "execution_count": 116,
     "metadata": {},
     "output_type": "execute_result"
    }
   ],
   "source": [
    "hidden.weights.shape, hidden.bias, output.weights.shape, output.bias.shape"
   ]
  },
  {
   "cell_type": "code",
   "execution_count": 117,
   "metadata": {},
   "outputs": [
    {
     "name": "stdout",
     "output_type": "stream",
     "text": [
      "[0.26969405 0.27555141 0.27029674 0.26939721 0.2827781  0.28612813\n",
      " 0.25882675 0.26238463 0.26078474 0.27890221 0.25809439 0.25392348\n",
      " 0.26931328 0.26017177 0.28612277 0.2853959  0.25264105 0.2866535\n",
      " 0.27141947 0.27434852]\n",
      "0.35\n"
     ]
    },
    {
     "data": {
      "text/plain": [
       "array([0., 0., 0., 0., 0., 0., 0., 0., 0., 0., 0., 0., 0., 0., 0., 0., 0.,\n",
       "       0., 0., 0.])"
      ]
     },
     "execution_count": 117,
     "metadata": {},
     "output_type": "execute_result"
    }
   ],
   "source": [
    "def predict(hidden, output, x):\n",
    "    intermediate = sigmoid(np.dot(x, hidden.weights) + hidden.bias)\n",
    "    intermediate1 = sigmoid((intermediate *  output.weights) + output.bias[0][0])\n",
    "    print(intermediate1)\n",
    "    return np.round(intermediate1)\n",
    "\n",
    "predictions = predict(hidden, output, xtest)\n",
    "\n",
    "def accuracy(y, ypred):\n",
    "    return np.sum(y == ypred) / len(y)\n",
    "\n",
    "print(accuracy(ytest, predictions))\n",
    "predictions"
   ]
  },
  {
   "cell_type": "code",
   "execution_count": null,
   "metadata": {},
   "outputs": [],
   "source": []
  }
 ],
 "metadata": {
  "kernelspec": {
   "display_name": "Python 3",
   "language": "python",
   "name": "python3"
  },
  "language_info": {
   "codemirror_mode": {
    "name": "ipython",
    "version": 3
   },
   "file_extension": ".py",
   "mimetype": "text/x-python",
   "name": "python",
   "nbconvert_exporter": "python",
   "pygments_lexer": "ipython3",
   "version": "3.11.4"
  }
 },
 "nbformat": 4,
 "nbformat_minor": 2
}
