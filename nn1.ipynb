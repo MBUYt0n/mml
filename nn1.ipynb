{
 "cells": [
  {
   "cell_type": "code",
   "execution_count": 2,
   "metadata": {},
   "outputs": [],
   "source": [
    "from sklearn.datasets import make_classification\n",
    "from sklearn.model_selection import train_test_split\n",
    "\n",
    "x, y = make_classification(n_samples=100, n_features=5)\n",
    "xtrain, xtest, ytrain, ytest = train_test_split(x, y, test_size=0.2, random_state=42)"
   ]
  },
  {
   "cell_type": "code",
   "execution_count": 3,
   "metadata": {},
   "outputs": [
    {
     "data": {
      "text/plain": [
       "((80, 5), (20, 5), (80,), (20,))"
      ]
     },
     "execution_count": 3,
     "metadata": {},
     "output_type": "execute_result"
    }
   ],
   "source": [
    "xtrain.shape, xtest.shape, ytrain.shape, ytest.shape"
   ]
  },
  {
   "cell_type": "code",
   "execution_count": 4,
   "metadata": {},
   "outputs": [],
   "source": [
    "import numpy as np\n",
    "hidden1_weights = np.zeros(1)\n",
    "hidden2_weights = np.zeros(1)\n",
    "output_weights = np.zeros(1)\n",
    "hidden1_bias = 0\n",
    "hidden2_bias = 0\n",
    "output_bias = 0\n",
    "\n",
    "def sigmoid(x):\n",
    "    return 1 / (1 + np.exp(-x))\n"
   ]
  },
  {
   "cell_type": "code",
   "execution_count": 5,
   "metadata": {},
   "outputs": [
    {
     "ename": "ValueError",
     "evalue": "shapes (16,5) and (1,) not aligned: 5 (dim 1) != 1 (dim 0)",
     "output_type": "error",
     "traceback": [
      "\u001b[0;31m---------------------------------------------------------------------------\u001b[0m",
      "\u001b[0;31mValueError\u001b[0m                                Traceback (most recent call last)",
      "Cell \u001b[0;32mIn[5], line 6\u001b[0m\n\u001b[1;32m      4\u001b[0m     lr \u001b[38;5;241m*\u001b[39m\u001b[38;5;241m=\u001b[39m \u001b[38;5;241m0.9\u001b[39m\n\u001b[1;32m      5\u001b[0m \u001b[38;5;28;01mfor\u001b[39;00m j \u001b[38;5;129;01min\u001b[39;00m \u001b[38;5;28mrange\u001b[39m(\u001b[38;5;241m0\u001b[39m, \u001b[38;5;28mlen\u001b[39m(xtrain), \u001b[38;5;241m16\u001b[39m):\n\u001b[0;32m----> 6\u001b[0m     hidden1_layer \u001b[38;5;241m=\u001b[39m \u001b[43mnp\u001b[49m\u001b[38;5;241;43m.\u001b[39;49m\u001b[43mdot\u001b[49m\u001b[43m(\u001b[49m\u001b[43mxtrain\u001b[49m\u001b[43m[\u001b[49m\u001b[43mj\u001b[49m\u001b[43m \u001b[49m\u001b[43m:\u001b[49m\u001b[43m \u001b[49m\u001b[43mj\u001b[49m\u001b[43m \u001b[49m\u001b[38;5;241;43m+\u001b[39;49m\u001b[43m \u001b[49m\u001b[38;5;241;43m16\u001b[39;49m\u001b[43m]\u001b[49m\u001b[43m,\u001b[49m\u001b[43m \u001b[49m\u001b[43mhidden1_weights\u001b[49m\u001b[43m)\u001b[49m \u001b[38;5;241m+\u001b[39m hidden1_bias\n\u001b[1;32m      7\u001b[0m     hidden1_layer \u001b[38;5;241m=\u001b[39m sigmoid(hidden1_layer)\n\u001b[1;32m      8\u001b[0m     hidden1_layer \u001b[38;5;241m=\u001b[39m hidden1_layer\u001b[38;5;241m.\u001b[39mreshape(\u001b[38;5;241m-\u001b[39m\u001b[38;5;241m1\u001b[39m, \u001b[38;5;241m1\u001b[39m)\n",
      "\u001b[0;31mValueError\u001b[0m: shapes (16,5) and (1,) not aligned: 5 (dim 1) != 1 (dim 0)"
     ]
    }
   ],
   "source": [
    "lr = 0.001\n",
    "for i in range(100):\n",
    "    if i % 5 == 0:\n",
    "        lr *= 0.9\n",
    "    for j in range(0, len(xtrain), 16):\n",
    "        hidden1_layer = np.dot(xtrain[j : j + 16], hidden1_weights) + hidden1_bias\n",
    "        hidden1_layer = sigmoid(hidden1_layer)\n",
    "        hidden1_layer = hidden1_layer.reshape(-1, 1)\n",
    "        hidden2_layer = np.dot(hidden1_layer, hidden2_weights) + hidden2_bias\n",
    "        hidden2_layer = sigmoid(hidden2_layer)\n",
    "        output_layer = np.dot(hidden2_layer, output_weights) + output_bias\n",
    "        output_layer = sigmoid(output_layer)\n",
    "        error = ytrain[j : j + 16] - output_layer\n",
    "        output_delta = error * output_layer * (1 - output_layer)\n",
    "        hidden2_delta = output_delta * output_weights * hidden2_layer * (1 - hidden2_layer)\n",
    "        hidden1_delta = hidden2_delta * hidden2_weights * hidden1_layer * (1 - hidden1_layer)\n",
    "        output_weights += output_delta * hidden2_layer  * lr\n",
    "        hidden2_weights += hidden2_delta * hidden1_layer * lr\n",
    "        hidden1_weights += hidden1_delta * xtrain[j : j + 16] * lr\n",
    "        output_bias += output_delta\n",
    "        hidden2_bias += hidden2_delta\n",
    "        hidden1_bias += hidden1_delta\n",
    "        print(error ** 2)"
   ]
  },
  {
   "cell_type": "code",
   "execution_count": 15,
   "metadata": {},
   "outputs": [
    {
     "data": {
      "text/plain": [
       "((5,),\n",
       " (5,),\n",
       " (5,),\n",
       " 0.04770367363624459,\n",
       " array([4.43284327e-10, 4.43284327e-10, 4.43284327e-10, 4.43284327e-10,\n",
       "        4.43284327e-10]),\n",
       " array([-0.00336077, -0.00336077, -0.00336077, -0.00336077, -0.00336077]))"
      ]
     },
     "execution_count": 15,
     "metadata": {},
     "output_type": "execute_result"
    }
   ],
   "source": [
    "output_weights.shape, hidden1_weights.shape, hidden2_weights.shape, output_bias, hidden1_bias, hidden2_bias"
   ]
  },
  {
   "cell_type": "code",
   "execution_count": 16,
   "metadata": {},
   "outputs": [
    {
     "name": "stdout",
     "output_type": "stream",
     "text": [
      "0.6\n"
     ]
    }
   ],
   "source": [
    "def accuracy(y, ypred):\n",
    "    return np.sum(y == ypred) / len(y)\n",
    "\n",
    "ypred = []\n",
    "for i in range(len(xtest)):\n",
    "    hidden1_layer = np.dot(xtest[i], hidden1_weights) + hidden1_bias\n",
    "    hidden1_layer = sigmoid(hidden1_layer)\n",
    "    hidden2_layer = np.dot(hidden1_layer, hidden2_weights) + hidden2_bias\n",
    "    hidden2_layer = sigmoid(hidden2_layer)\n",
    "    output_layer = np.dot(hidden2_layer, output_weights) + output_bias\n",
    "    output_layer = sigmoid(output_layer)\n",
    "    ypred.append(1 if output_layer > 0.5 else 0)\n",
    "\n",
    "print(accuracy(ytest, ypred))"
   ]
  },
  {
   "cell_type": "code",
   "execution_count": 18,
   "metadata": {},
   "outputs": [
    {
     "name": "stdout",
     "output_type": "stream",
     "text": [
      "1.0\n"
     ]
    }
   ],
   "source": [
    "from sklearn.linear_model import LogisticRegression\n",
    "model = LogisticRegression()\n",
    "model.fit(xtrain, ytrain)\n",
    "ypred = model.predict(xtest)\n",
    "print(accuracy(ytest, ypred))"
   ]
  },
  {
   "cell_type": "code",
   "execution_count": 1,
   "metadata": {},
   "outputs": [
    {
     "data": {
      "text/plain": [
       "array([[ 0.2,  0.4],\n",
       "       [-0.2,  0.6]])"
      ]
     },
     "execution_count": 1,
     "metadata": {},
     "output_type": "execute_result"
    }
   ],
   "source": [
    "import numpy as np\n",
    "\n",
    "a = [[3, -2], [1, 1]]\n",
    "np.linalg.inv(a)"
   ]
  },
  {
   "cell_type": "code",
   "execution_count": 3,
   "metadata": {},
   "outputs": [
    {
     "data": {
      "text/plain": [
       "array([[81,  0,  0],\n",
       "       [ 0, 81,  0],\n",
       "       [ 0,  0, 81]])"
      ]
     },
     "execution_count": 3,
     "metadata": {},
     "output_type": "execute_result"
    }
   ],
   "source": [
    "a = np.array([[8, 1, 4], [-4, 4, 7], [1, 8, -4]])\n",
    "np.matmul(a, a.T)"
   ]
  },
  {
   "cell_type": "code",
   "execution_count": null,
   "metadata": {},
   "outputs": [],
   "source": []
  }
 ],
 "metadata": {
  "kernelspec": {
   "display_name": "Python 3",
   "language": "python",
   "name": "python3"
  },
  "language_info": {
   "codemirror_mode": {
    "name": "ipython",
    "version": 3
   },
   "file_extension": ".py",
   "mimetype": "text/x-python",
   "name": "python",
   "nbconvert_exporter": "python",
   "pygments_lexer": "ipython3",
   "version": "3.11.4"
  }
 },
 "nbformat": 4,
 "nbformat_minor": 2
}
